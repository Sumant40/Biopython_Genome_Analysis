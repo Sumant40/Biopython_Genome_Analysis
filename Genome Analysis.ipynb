{
 "cells": [
  {
   "cell_type": "markdown",
   "id": "3d2a1f35",
   "metadata": {},
   "source": [
    "# COVID-19 Genome Analysis using Biopython\n",
    "### Fetch COVID-19 Genome from NCBI\n",
    "**MN908947** - covid-19 genome used here was sequenced from a sample of bronchoalveolar lavage fluid from a single patient who was a worker at the market and who was admitted to the Central Hospital of Wuhan on 26 December 2019"
   ]
  },
  {
   "cell_type": "code",
   "execution_count": null,
   "id": "8834339d",
   "metadata": {},
   "outputs": [],
   "source": [
    "from Bio import Entrez, SeqIO\n",
    "Entrez.email = \"dummy@email.com\" \n",
    "handle = Entrez.efetch(db=\"nucleotide\", id=\"MN908947\", rettype=\"gb\", retmode=\"text\")\n",
    "recs = list(SeqIO.parse(handle, 'gb'))\n",
    "handle.close()"
   ]
  },
  {
   "cell_type": "code",
   "execution_count": 2,
   "id": "db5d8a72",
   "metadata": {},
   "outputs": [
    {
     "data": {
      "text/plain": [
       "[SeqRecord(seq=Seq('ATTAAAGGTTTATACCTTCCCAGGTAACAAACCAACCAACTTTCGATCTCTTGT...AAA'), id='MN908947.3', name='MN908947', description='Severe acute respiratory syndrome coronavirus 2 isolate Wuhan-Hu-1, complete genome', dbxrefs=[])]"
      ]
     },
     "execution_count": 2,
     "metadata": {},
     "output_type": "execute_result"
    }
   ],
   "source": [
    "recs"
   ]
  },
  {
   "cell_type": "code",
   "execution_count": 3,
   "id": "9ec1543f",
   "metadata": {},
   "outputs": [],
   "source": [
    "covid_dna=recs[0].seq"
   ]
  },
  {
   "cell_type": "code",
   "execution_count": 4,
   "id": "a6b50ce7",
   "metadata": {},
   "outputs": [
    {
     "data": {
      "text/plain": [
       "Seq('ATTAAAGGTTTATACCTTCCCAGGTAACAAACCAACCAACTTTCGATCTCTTGT...AAA')"
      ]
     },
     "execution_count": 4,
     "metadata": {},
     "output_type": "execute_result"
    }
   ],
   "source": [
    "covid_dna"
   ]
  },
  {
   "cell_type": "code",
   "execution_count": null,
   "id": "21d0962b",
   "metadata": {},
   "outputs": [
    {
     "name": "stdout",
     "output_type": "stream",
     "text": [
      "Length of the genome: 29903\n"
     ]
    }
   ],
   "source": [
    "print(f\"Length of the genome: {len(covid_dna)}\") #number of nucleotides"
   ]
  },
  {
   "cell_type": "code",
   "execution_count": 6,
   "id": "c3f51437",
   "metadata": {},
   "outputs": [
    {
     "name": "stdout",
     "output_type": "stream",
     "text": [
      "Molecular weight of the genome: 9241219.214399999 g/mol\n"
     ]
    }
   ],
   "source": [
    "#molecular weight of the genome\n",
    "from Bio.SeqUtils import molecular_weight\n",
    "print(f\"Molecular weight of the genome: {molecular_weight(covid_dna)} g/mol\")"
   ]
  },
  {
   "cell_type": "code",
   "execution_count": 7,
   "id": "cb1c397b",
   "metadata": {},
   "outputs": [
    {
     "name": "stdout",
     "output_type": "stream",
     "text": [
      "GC content of the genome: 37.97%\n"
     ]
    }
   ],
   "source": [
    "# gc content\n",
    "from Bio.SeqUtils import gc_fraction\n",
    "print(f\"GC content of the genome: {gc_fraction(covid_dna)*100:.2f}%\")"
   ]
  },
  {
   "cell_type": "markdown",
   "id": "5ea10c61",
   "metadata": {},
   "source": [
    "### Distribution of nucleotides in COVID-19 genome"
   ]
  },
  {
   "cell_type": "code",
   "execution_count": 8,
   "id": "7552ad52",
   "metadata": {},
   "outputs": [],
   "source": [
    "count_nucleotides = {\n",
    "    'A': covid_dna.count('A'),\n",
    "    'T': covid_dna.count('T'),\n",
    "    'G': covid_dna.count('G'),\n",
    "    'C': covid_dna.count('C')\n",
    "}"
   ]
  },
  {
   "cell_type": "code",
   "execution_count": 9,
   "id": "9131e5d7",
   "metadata": {},
   "outputs": [
    {
     "data": {
      "text/plain": [
       "{'A': 8954, 'T': 9594, 'G': 5863, 'C': 5492}"
      ]
     },
     "execution_count": 9,
     "metadata": {},
     "output_type": "execute_result"
    }
   ],
   "source": [
    "count_nucleotides"
   ]
  },
  {
   "cell_type": "code",
   "execution_count": 10,
   "id": "1121e645",
   "metadata": {},
   "outputs": [
    {
     "data": {
      "image/png": "[encoded data removed]",
      "text/plain": [
       "<Figure size 640x480 with 1 Axes>"
      ]
     },
     "metadata": {},
     "output_type": "display_data"
    }
   ],
   "source": [
    "import matplotlib.pyplot as plt\n",
    "width = 0.5\n",
    "plt.bar(count_nucleotides.keys(), count_nucleotides.values(), width, color=['blue', 'orange', 'green', 'red'])\n",
    "plt.xlabel('Nucleotides')\n",
    "plt.ylabel('Frequency')\n",
    "plt.title('Nucleotide Distribution in COVID-19 Genome')\n",
    "plt.show()"
   ]
  },
  {
   "cell_type": "markdown",
   "id": "40f8b92d",
   "metadata": {},
   "source": [
    "## Transcription"
   ]
  },
  {
   "cell_type": "code",
   "execution_count": 11,
   "id": "5090369a",
   "metadata": {},
   "outputs": [
    {
     "data": {
      "text/plain": [
       "Seq('AUUAAAGGUUUAUACCUUCCCAGGUAACAAACCAACCAACUUUCGAUCUCUUGU...AAA')"
      ]
     },
     "execution_count": 11,
     "metadata": {},
     "output_type": "execute_result"
    }
   ],
   "source": [
    "covid_mrna = covid_dna.transcribe()\n",
    "covid_mrna"
   ]
  },
  {
   "cell_type": "markdown",
   "id": "73d46907",
   "metadata": {},
   "source": [
    "## Translation"
   ]
  },
  {
   "cell_type": "code",
   "execution_count": 12,
   "id": "35f12ea1",
   "metadata": {},
   "outputs": [
    {
     "name": "stderr",
     "output_type": "stream",
     "text": [
      "c:\\Users\\SUMANT\\anaconda3\\Lib\\site-packages\\Bio\\Seq.py:2879: BiopythonWarning: Partial codon, len(sequence) not a multiple of three. Explicitly trim the sequence or add trailing N before translation. This may become an error in future.\n",
      "  warnings.warn(\n"
     ]
    },
    {
     "data": {
      "text/plain": [
       "Seq('IKGLYLPR*QTNQLSISCRSVL*TNFKICVAVTRLHA*CTHAV*LITNYCR*QD...KKK')"
      ]
     },
     "execution_count": 12,
     "metadata": {},
     "output_type": "execute_result"
    }
   ],
   "source": [
    "covid_translated = covid_mrna.translate()\n",
    "covid_translated"
   ]
  },
  {
   "cell_type": "code",
   "execution_count": 13,
   "id": "b1566b50",
   "metadata": {},
   "outputs": [
    {
     "data": {
      "text/plain": [
       "[('L', 886),\n",
       " ('S', 810),\n",
       " ('*', 774),\n",
       " ('T', 679),\n",
       " ('C', 635),\n",
       " ('F', 593),\n",
       " ('R', 558),\n",
       " ('V', 548),\n",
       " ('Y', 505),\n",
       " ('N', 472)]"
      ]
     },
     "execution_count": 13,
     "metadata": {},
     "output_type": "execute_result"
    }
   ],
   "source": [
    "# common amino acids\n",
    "from collections import Counter\n",
    "common_amino = Counter(covid_translated)\n",
    "common_amino.most_common(10)"
   ]
  },
  {
   "cell_type": "code",
   "execution_count": 14,
   "id": "d332f421",
   "metadata": {},
   "outputs": [
    {
     "data": {
      "image/png": "[encoded data removed]",
      "text/plain": [
       "<Figure size 640x480 with 1 Axes>"
      ]
     },
     "metadata": {},
     "output_type": "display_data"
    }
   ],
   "source": [
    "del common_amino['*']\n",
    "\n",
    "width = 0.5\n",
    "plt.bar(common_amino.keys(), common_amino.values(), width, color=['b','r','m','c'])\n",
    "plt.xlabel('Amino acid')\n",
    "plt.ylabel('Frequency')\n",
    "plt.title('Protien Sequence Frequency')\n",
    "plt.show()"
   ]
  },
  {
   "cell_type": "code",
   "execution_count": 15,
   "id": "b19f6cb2",
   "metadata": {},
   "outputs": [
    {
     "name": "stdout",
     "output_type": "stream",
     "text": [
      "Covid-19's genome has 9193 amino acids\n"
     ]
    }
   ],
   "source": [
    "print(f\"Covid-19's genome has {sum(common_amino.values())} amino acids\")"
   ]
  },
  {
   "cell_type": "code",
   "execution_count": 16,
   "id": "2e05f3b3",
   "metadata": {},
   "outputs": [],
   "source": [
    "protiens=covid_translated.split('*')"
   ]
  },
  {
   "cell_type": "code",
   "execution_count": 17,
   "id": "64dae054",
   "metadata": {},
   "outputs": [
    {
     "data": {
      "text/plain": [
       "[Seq('IKGLYLPR'),\n",
       " Seq('QTNQLSISCRSVL'),\n",
       " Seq('TNFKICVAVTRLHA'),\n",
       " Seq('CTHAV'),\n",
       " Seq('LITNYCR')]"
      ]
     },
     "execution_count": 17,
     "metadata": {},
     "output_type": "execute_result"
    }
   ],
   "source": [
    "protiens[:5]"
   ]
  },
  {
   "cell_type": "code",
   "execution_count": 18,
   "id": "259534f8",
   "metadata": {},
   "outputs": [
    {
     "name": "stdout",
     "output_type": "stream",
     "text": [
      "We have 775 amino acids in covid-19 genome\n"
     ]
    }
   ],
   "source": [
    "print(f'We have {len(protiens)} amino acids in covid-19 genome')"
   ]
  },
  {
   "cell_type": "code",
   "execution_count": 33,
   "id": "fc24e1ce",
   "metadata": {},
   "outputs": [],
   "source": [
    "for protien in protiens:\n",
    "    if len(protien) < 20:\n",
    "        protiens.remove(protien) "
   ]
  },
  {
   "cell_type": "code",
   "execution_count": 34,
   "id": "f3d98329",
   "metadata": {},
   "outputs": [
    {
     "name": "stdout",
     "output_type": "stream",
     "text": [
      "We have 80 protiens with more than 20 amino in the covid-19 genome\n"
     ]
    }
   ],
   "source": [
    "print(f'We have {len(protiens)} protiens with more than 20 amino in the covid-19 genome')"
   ]
  },
  {
   "cell_type": "code",
   "execution_count": 35,
   "id": "9385b5c4",
   "metadata": {},
   "outputs": [],
   "source": [
    "top_5_protiens = sorted(protiens, key = len)"
   ]
  },
  {
   "cell_type": "code",
   "execution_count": 36,
   "id": "d4d8d910",
   "metadata": {},
   "outputs": [
    {
     "data": {
      "text/plain": [
       "Seq('CTIVFKRVCGVSAARLTPCGTGTSTDVVYRAFDIYNDKVAGFAKFLKTNCCRFQ...VNN')"
      ]
     },
     "execution_count": 36,
     "metadata": {},
     "output_type": "execute_result"
    }
   ],
   "source": [
    "top_5_protiens[-1]"
   ]
  },
  {
   "cell_type": "code",
   "execution_count": 37,
   "id": "d2730555",
   "metadata": {},
   "outputs": [
    {
     "data": {
      "text/plain": [
       "2701"
      ]
     },
     "execution_count": 37,
     "metadata": {},
     "output_type": "execute_result"
    }
   ],
   "source": [
    "len(top_5_protiens[-1])"
   ]
  },
  {
   "cell_type": "code",
   "execution_count": 41,
   "id": "c802a2c9",
   "metadata": {},
   "outputs": [],
   "source": [
    "with open(\"protein_seq.fasta\", \"w\") as file:\n",
    "    file.write(f\">covid protein\\n{top_5_protiens[-1]}\")"
   ]
  }
 ],
 "metadata": {
  "kernelspec": {
   "display_name": "base",
   "language": "python",
   "name": "python3"
  },
  "language_info": {
   "codemirror_mode": {
    "name": "ipython",
    "version": 3
   },
   "file_extension": ".py",
   "mimetype": "text/x-python",
   "name": "python",
   "nbconvert_exporter": "python",
   "pygments_lexer": "ipython3",
   "version": "3.13.5"
  }
 },
 "nbformat": 4,
 "nbformat_minor": 5
}
